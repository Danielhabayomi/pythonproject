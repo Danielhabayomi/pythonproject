{
  "nbformat": 4,
  "nbformat_minor": 0,
  "metadata": {
    "colab": {
      "provenance": [],
      "include_colab_link": true
    },
    "kernelspec": {
      "name": "python3",
      "display_name": "Python 3"
    },
    "language_info": {
      "name": "python"
    }
  },
  "cells": [
    {
      "cell_type": "markdown",
      "metadata": {
        "id": "view-in-github",
        "colab_type": "text"
      },
      "source": [
        "<a href=\"https://colab.research.google.com/github/Danielhabayomi/pythonproject/blob/main/Chinook_DB_Analysis.ipynb\" target=\"_parent\"><img src=\"https://colab.research.google.com/assets/colab-badge.svg\" alt=\"Open In Colab\"/></a>"
      ]
    },
    {
      "cell_type": "code",
      "execution_count": null,
      "metadata": {
        "id": "bB5lo_ipiamq",
        "colab": {
          "base_uri": "https://localhost:8080/"
        },
        "outputId": "75fcec28-16eb-4c49-ed92-1c95822504da"
      },
      "outputs": [
        {
          "output_type": "stream",
          "name": "stdout",
          "text": [
            "Mounted at /content/drive\n"
          ]
        }
      ],
      "source": [
        "from google.colab import drive\n",
        "drive.mount('/content/drive')"
      ]
    },
    {
      "cell_type": "code",
      "source": [
        "%load_ext sql"
      ],
      "metadata": {
        "id": "wVKHi6Z3ii6R"
      },
      "execution_count": null,
      "outputs": []
    },
    {
      "cell_type": "code",
      "source": [
        "%sql sqlite:////content/drive/MyDrive/Chinook/chinook.db"
      ],
      "metadata": {
        "id": "uYcn4G6likzJ"
      },
      "execution_count": null,
      "outputs": []
    },
    {
      "cell_type": "code",
      "source": [
        "%%sql\n",
        "SELECT name FROM sqlite_master WHERE type='table' AND name NOT LIKE 'sqlite_%';"
      ],
      "metadata": {
        "id": "cFBe8sBKinCo",
        "colab": {
          "base_uri": "https://localhost:8080/",
          "height": 305
        },
        "outputId": "d482e146-347f-4dab-920f-a8f347182244"
      },
      "execution_count": null,
      "outputs": [
        {
          "output_type": "stream",
          "name": "stdout",
          "text": [
            " * sqlite:////content/drive/MyDrive/Chinook/chinook.db\n",
            "Done.\n"
          ]
        },
        {
          "output_type": "execute_result",
          "data": {
            "text/plain": [
              "[('Album',),\n",
              " ('Artist',),\n",
              " ('Customer',),\n",
              " ('Employee',),\n",
              " ('Genre',),\n",
              " ('Invoice',),\n",
              " ('InvoiceLine',),\n",
              " ('MediaType',),\n",
              " ('Playlist',),\n",
              " ('PlaylistTrack',),\n",
              " ('Track',)]"
            ],
            "text/html": [
              "<table>\n",
              "    <thead>\n",
              "        <tr>\n",
              "            <th>name</th>\n",
              "        </tr>\n",
              "    </thead>\n",
              "    <tbody>\n",
              "        <tr>\n",
              "            <td>Album</td>\n",
              "        </tr>\n",
              "        <tr>\n",
              "            <td>Artist</td>\n",
              "        </tr>\n",
              "        <tr>\n",
              "            <td>Customer</td>\n",
              "        </tr>\n",
              "        <tr>\n",
              "            <td>Employee</td>\n",
              "        </tr>\n",
              "        <tr>\n",
              "            <td>Genre</td>\n",
              "        </tr>\n",
              "        <tr>\n",
              "            <td>Invoice</td>\n",
              "        </tr>\n",
              "        <tr>\n",
              "            <td>InvoiceLine</td>\n",
              "        </tr>\n",
              "        <tr>\n",
              "            <td>MediaType</td>\n",
              "        </tr>\n",
              "        <tr>\n",
              "            <td>Playlist</td>\n",
              "        </tr>\n",
              "        <tr>\n",
              "            <td>PlaylistTrack</td>\n",
              "        </tr>\n",
              "        <tr>\n",
              "            <td>Track</td>\n",
              "        </tr>\n",
              "    </tbody>\n",
              "</table>"
            ]
          },
          "metadata": {},
          "execution_count": 4
        }
      ]
    },
    {
      "cell_type": "code",
      "source": [
        "# Connect to the SQLite database again\n",
        "conn = sqlite3.connect('/content/drive/MyDrive/Chinook/chinook.db')"
      ],
      "metadata": {
        "id": "VhcVHrxtoDrY"
      },
      "execution_count": null,
      "outputs": []
    },
    {
      "cell_type": "code",
      "source": [
        "import sqlite3\n",
        "import pandas as pd"
      ],
      "metadata": {
        "id": "l_d-Dngh2sBo"
      },
      "execution_count": null,
      "outputs": []
    },
    {
      "cell_type": "markdown",
      "source": [
        "## **Task 1: Analyzing Invoices by Country**"
      ],
      "metadata": {
        "id": "DFSF8VrSzVcG"
      }
    },
    {
      "cell_type": "code",
      "source": [
        "\n",
        "biling_country = '''\n",
        "SELECT BillingCountry, COUNT(InvoiceId) AS TotalInvoices\n",
        "FROM Invoice\n",
        "GROUP BY BillingCountry\n",
        "ORDER BY TotalInvoices DESC\n",
        "'''\n",
        "df_biling_country = pd.read_sql_query(biling_country, conn)\n",
        "print(\"biling_country:\")\n",
        "print(df_biling_country)\n",
        "\n",
        "#After querying the database to find out Countries with the highest invoices, the top 5 came out to be USA, CANADA, FRANCE, BRAZIL, GERMANY and UNITED KINGDOM in the same order, ranging from the highest 91 to the lowest 21"
      ],
      "metadata": {
        "colab": {
          "base_uri": "https://localhost:8080/"
        },
        "id": "vCWJvc69t2nu",
        "outputId": "6f203cdd-3760-4e33-a9bc-5dc007a7f114"
      },
      "execution_count": null,
      "outputs": [
        {
          "output_type": "stream",
          "name": "stdout",
          "text": [
            "biling_country:\n",
            "    BillingCountry  TotalInvoices\n",
            "0              USA             91\n",
            "1           Canada             56\n",
            "2           France             35\n",
            "3           Brazil             35\n",
            "4          Germany             28\n",
            "5   United Kingdom             21\n",
            "6         Portugal             14\n",
            "7   Czech Republic             14\n",
            "8            India             13\n",
            "9           Sweden              7\n",
            "10           Spain              7\n",
            "11          Poland              7\n",
            "12          Norway              7\n",
            "13     Netherlands              7\n",
            "14           Italy              7\n",
            "15         Ireland              7\n",
            "16         Hungary              7\n",
            "17         Finland              7\n",
            "18         Denmark              7\n",
            "19           Chile              7\n",
            "20         Belgium              7\n",
            "21         Austria              7\n",
            "22       Australia              7\n",
            "23       Argentina              7\n"
          ]
        }
      ]
    },
    {
      "cell_type": "markdown",
      "source": [
        "### **Task 2: Identifying the City with the Best Customers**"
      ],
      "metadata": {
        "id": "xHcg5EPuze0B"
      }
    },
    {
      "cell_type": "code",
      "source": [
        "\n",
        "best_customers = '''\n",
        "SELECT Invoice.BillingCity, SUM(Invoice.Total) AS TotalSales\n",
        "FROM Invoice\n",
        "GROUP BY Invoice.BillingCity\n",
        "ORDER BY TotalSales DESC\n",
        "LIMIT 1\n",
        "'''\n",
        "df_best_customers = pd.read_sql_query(best_customers, conn)\n",
        "print(\"best_customers:\")\n",
        "print(df_best_customers)\n",
        "\n",
        "#The city with the best customers is Prague with a total of 90.24 sales"
      ],
      "metadata": {
        "colab": {
          "base_uri": "https://localhost:8080/"
        },
        "id": "IHfNq9xEt2WL",
        "outputId": "1e9ec22b-ced4-4ff1-f59e-dae3635696f4"
      },
      "execution_count": null,
      "outputs": [
        {
          "output_type": "stream",
          "name": "stdout",
          "text": [
            "best_customers:\n",
            "  BillingCity  TotalSales\n",
            "0      Prague       90.24\n"
          ]
        }
      ]
    },
    {
      "cell_type": "markdown",
      "source": [
        "### **Task 3: Total Sales Time Series**"
      ],
      "metadata": {
        "id": "rM9nObpCzlel"
      }
    },
    {
      "cell_type": "code",
      "source": [
        "\n",
        "total_sales = '''\n",
        "SELECT strftime('%Y-%m', InvoiceDate) AS Month, SUM(Total) AS TotalSales\n",
        "FROM Invoice\n",
        "GROUP BY strftime('%Y-%m', InvoiceDate)\n",
        "'''\n",
        "df_total_sales = pd.read_sql_query(total_sales, conn)\n",
        "print(\"total_sales (Total Sales Time Series):\")\n",
        "print(df_total_sales)\n",
        "\n",
        "#Total sales shows a consistent flow for the period of a year and has since then shows sudden increase in total sales in some months and dropped in other months but maintained going below the 35.64 benchmark it started with"
      ],
      "metadata": {
        "colab": {
          "base_uri": "https://localhost:8080/"
        },
        "id": "uQ9XcEwUt2Cz",
        "outputId": "13ed4e73-d207-4a11-aa45-33c91707dd58"
      },
      "execution_count": null,
      "outputs": [
        {
          "output_type": "stream",
          "name": "stdout",
          "text": [
            "total_sales (Total Sales Time Series):\n",
            "      Month  TotalSales\n",
            "0   2009-01       35.64\n",
            "1   2009-02       37.62\n",
            "2   2009-03       37.62\n",
            "3   2009-04       37.62\n",
            "4   2009-05       37.62\n",
            "5   2009-06       37.62\n",
            "6   2009-07       37.62\n",
            "7   2009-08       37.62\n",
            "8   2009-09       37.62\n",
            "9   2009-10       37.62\n",
            "10  2009-11       37.62\n",
            "11  2009-12       37.62\n",
            "12  2010-01       52.62\n",
            "13  2010-02       46.62\n",
            "14  2010-03       44.62\n",
            "15  2010-04       37.62\n",
            "16  2010-05       37.62\n",
            "17  2010-06       37.62\n",
            "18  2010-07       37.62\n",
            "19  2010-08       37.62\n",
            "20  2010-09       36.63\n",
            "21  2010-10       37.62\n",
            "22  2010-11       37.62\n",
            "23  2010-12       37.62\n",
            "24  2011-01       37.62\n",
            "25  2011-02       37.62\n",
            "26  2011-03       37.62\n",
            "27  2011-04       51.62\n",
            "28  2011-05       42.62\n",
            "29  2011-06       50.62\n",
            "30  2011-07       37.62\n",
            "31  2011-08       37.62\n",
            "32  2011-09       37.62\n",
            "33  2011-10       37.62\n",
            "34  2011-11       23.76\n",
            "35  2011-12       37.62\n",
            "36  2012-01       37.62\n",
            "37  2012-02       37.62\n",
            "38  2012-03       37.62\n",
            "39  2012-04       37.62\n",
            "40  2012-05       37.62\n",
            "41  2012-06       37.62\n",
            "42  2012-07       39.62\n",
            "43  2012-08       47.62\n",
            "44  2012-09       46.71\n",
            "45  2012-10       42.62\n",
            "46  2012-11       37.62\n",
            "47  2012-12       37.62\n",
            "48  2013-01       37.62\n",
            "49  2013-02       27.72\n",
            "50  2013-03       37.62\n",
            "51  2013-04       33.66\n",
            "52  2013-05       37.62\n",
            "53  2013-06       37.62\n",
            "54  2013-07       37.62\n",
            "55  2013-08       37.62\n",
            "56  2013-09       37.62\n",
            "57  2013-10       37.62\n",
            "58  2013-11       49.62\n",
            "59  2013-12       38.62\n"
          ]
        }
      ]
    },
    {
      "cell_type": "markdown",
      "source": [
        "### **Task 3: Total Rock Sales Time Series**"
      ],
      "metadata": {
        "id": "hCYAbiqBz39E"
      }
    },
    {
      "cell_type": "code",
      "source": [
        "total_sales_rock = '''\n",
        "SELECT strftime('%Y-%m', InvoiceDate) AS Month, SUM(Invoice.Total) AS TotalRockSales\n",
        "FROM Invoice\n",
        "JOIN InvoiceLine ON Invoice.InvoiceId = InvoiceLine.InvoiceId\n",
        "JOIN Track ON InvoiceLine.TrackId = Track.TrackId\n",
        "JOIN Genre ON Track.GenreId = Genre.GenreId\n",
        "WHERE Genre.Name = 'Rock'\n",
        "GROUP BY strftime('%Y-%m', InvoiceDate)\n",
        "'''\n",
        "df_total_sales_rock = pd.read_sql_query(total_sales_rock, conn)\n",
        "print(\"\\total_sales_rock (Rock Genre Sales Time Series):\")\n",
        "print(df_total_sales_rock)\n",
        "\n",
        "#TotalRocksales however has a much higher total sales and has an inconsistent flow, flunctuating from as high as 201.96 to as low as 17.82"
      ],
      "metadata": {
        "colab": {
          "base_uri": "https://localhost:8080/"
        },
        "id": "M9M8aaGyv4Pp",
        "outputId": "3d2de752-f605-4a88-f143-5856e99bef30"
      },
      "execution_count": null,
      "outputs": [
        {
          "output_type": "stream",
          "name": "stdout",
          "text": [
            "\total_sales_rock (Rock Genre Sales Time Series):\n",
            "      Month  TotalRockSales\n",
            "0   2009-01           99.99\n",
            "1   2009-02           97.02\n",
            "2   2009-03           78.21\n",
            "3   2009-04          175.23\n",
            "4   2009-05           59.40\n",
            "5   2009-06          114.84\n",
            "6   2009-07          168.30\n",
            "7   2009-08          122.76\n",
            "8   2009-09           69.30\n",
            "9   2009-10          198.99\n",
            "10  2009-11          189.09\n",
            "11  2009-12          188.10\n",
            "12  2010-01          170.73\n",
            "13  2010-02          143.63\n",
            "14  2010-03           37.64\n",
            "15  2010-04          122.76\n",
            "16  2010-05           42.57\n",
            "17  2010-06           83.16\n",
            "18  2010-07          201.96\n",
            "19  2010-08           77.22\n",
            "20  2010-09          116.82\n",
            "21  2010-10          138.60\n",
            "22  2010-11          160.38\n",
            "23  2010-12           69.30\n",
            "24  2011-01          195.03\n",
            "25  2011-02          215.82\n",
            "26  2011-03          202.95\n",
            "27  2011-04          131.16\n",
            "28  2011-05          179.34\n",
            "29  2011-06           38.62\n",
            "30  2011-07          126.72\n",
            "31  2011-08           41.58\n",
            "32  2011-09          128.70\n",
            "33  2011-10          205.92\n",
            "34  2011-11           17.82\n",
            "35  2011-12          102.96\n",
            "36  2012-01          122.76\n",
            "37  2012-02          196.02\n",
            "38  2012-03           55.44\n",
            "39  2012-04           96.03\n",
            "40  2012-05          173.25\n",
            "41  2012-06          190.08\n",
            "42  2012-07          177.21\n",
            "43  2012-08          218.20\n",
            "44  2012-09          101.16\n",
            "45  2012-10           49.59\n",
            "46  2012-11          104.94\n",
            "47  2012-12           51.48\n",
            "48  2013-01           77.22\n",
            "49  2013-02          200.97\n",
            "50  2013-03           78.21\n",
            "51  2013-04          105.93\n",
            "52  2013-05          103.95\n",
            "53  2013-06          183.15\n",
            "54  2013-07           46.53\n",
            "55  2013-08          153.45\n",
            "56  2013-09          225.72\n",
            "57  2013-10          202.95\n",
            "58  2013-11           56.55\n",
            "59  2013-12          236.61\n"
          ]
        }
      ]
    },
    {
      "cell_type": "markdown",
      "source": [
        "### **Task 4: Six Months Sales Forecasting**"
      ],
      "metadata": {
        "id": "49BHFmyZ0KdC"
      }
    },
    {
      "cell_type": "code",
      "source": [
        "from statsmodels.tsa.holtwinters import ExponentialSmoothing\n",
        "import matplotlib.pyplot as plt"
      ],
      "metadata": {
        "id": "9NZ-V-VVxfpo"
      },
      "execution_count": null,
      "outputs": []
    },
    {
      "cell_type": "code",
      "source": [
        "# Get the current timezone\n",
        "import pytz\n",
        "tz = pytz.utc\n",
        "\n",
        "# Create the date range with the timezone information\n",
        "df_total_sales2['Month'] = pd.to_datetime(df_total_sales2['Month'])"
      ],
      "metadata": {
        "id": "_oAT-4OMyePc"
      },
      "execution_count": null,
      "outputs": []
    },
    {
      "cell_type": "code",
      "source": [
        "# Using Exponential Smoothing for forecasting\n",
        "# Exponential smoothing offers a practical approach to forecasting for data with highs and lows, providing a balance between simplicity and effectiveness in capturing underlying trends.\n",
        "\n",
        "model = ExponentialSmoothing(df_total_sales2['TotalSales'], trend='add', seasonal='add', seasonal_periods=12)\n",
        "model_fit = model.fit()\n",
        "forecast = model_fit.forecast(6)\n",
        "\n",
        "# Plotting the forecast\n",
        "plt.figure(figsize=(16, 6))\n",
        "plt.plot(df_total_sales2['Month'], df_total_sales2['TotalSales'], label='Actual Sales')\n",
        "plt.plot(pd.date_range(start=df_total_sales2['Month'].iloc[-1], periods=6, freq='M'), forecast, label='Forecast')\n",
        "plt.title('Total Sales Forecast for Next 6 Months')\n",
        "plt.xlabel('Month')\n",
        "plt.ylabel('Total Sales')\n",
        "plt.legend()\n",
        "plt.grid()\n",
        "plt.show()\n",
        "\n",
        "#Forecast shows continuation in the inconsistent pattern of total sales, starting from as high as 45 and it's lowest dip in the second month as low as 42 and increasing back to 45 at the last month."
      ],
      "metadata": {
        "colab": {
          "base_uri": "https://localhost:8080/",
          "height": 564
        },
        "id": "Tc5iDpY2t1kk",
        "outputId": "bf9a31db-7890-4c89-917c-540d135ac768"
      },
      "execution_count": null,
      "outputs": [
        {
          "output_type": "display_data",
          "data": {
            "text/plain": [
              "<Figure size 1600x600 with 1 Axes>"
            ],
            "image/png": "[encoded data removed]"
          },
          "metadata": {}
        }
      ]
    },
    {
      "cell_type": "markdown",
      "source": [
        "### **Close the connection**"
      ],
      "metadata": {
        "id": "pwdx_NEE0VWc"
      }
    },
    {
      "cell_type": "code",
      "source": [
        "conn.close()"
      ],
      "metadata": {
        "id": "kAYjpFICs45a"
      },
      "execution_count": null,
      "outputs": []
    }
  ]
}